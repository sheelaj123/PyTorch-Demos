{
  "cells": [
    {
      "cell_type": "markdown",
      "metadata": {
        "id": "view-in-github",
        "colab_type": "text"
      },
      "source": [
        "<a href=\"https://colab.research.google.com/github/sheelaj123/PyTorch-Demos/blob/main/Pytorch_Step_by_Step.ipynb\" target=\"_parent\"><img src=\"https://colab.research.google.com/assets/colab-badge.svg\" alt=\"Open In Colab\"/></a>"
      ]
    },
    {
      "cell_type": "code",
      "execution_count": null,
      "metadata": {
        "colab": {
          "base_uri": "https://localhost:8080/"
        },
        "id": "y-SoJiddsEOI",
        "outputId": "24ae7adb-db24-425c-e76e-166693ee1632"
      },
      "outputs": [
        {
          "name": "stdout",
          "output_type": "stream",
          "text": [
            "Requirement already satisfied: torch in /usr/local/lib/python3.10/dist-packages (2.1.0+cu121)\n",
            "Requirement already satisfied: torchvision in /usr/local/lib/python3.10/dist-packages (0.16.0+cu121)\n",
            "Requirement already satisfied: filelock in /usr/local/lib/python3.10/dist-packages (from torch) (3.13.1)\n",
            "Requirement already satisfied: typing-extensions in /usr/local/lib/python3.10/dist-packages (from torch) (4.9.0)\n",
            "Requirement already satisfied: sympy in /usr/local/lib/python3.10/dist-packages (from torch) (1.12)\n",
            "Requirement already satisfied: networkx in /usr/local/lib/python3.10/dist-packages (from torch) (3.2.1)\n",
            "Requirement already satisfied: jinja2 in /usr/local/lib/python3.10/dist-packages (from torch) (3.1.3)\n",
            "Requirement already satisfied: fsspec in /usr/local/lib/python3.10/dist-packages (from torch) (2023.6.0)\n",
            "Requirement already satisfied: triton==2.1.0 in /usr/local/lib/python3.10/dist-packages (from torch) (2.1.0)\n",
            "Requirement already satisfied: numpy in /usr/local/lib/python3.10/dist-packages (from torchvision) (1.25.2)\n",
            "Requirement already satisfied: requests in /usr/local/lib/python3.10/dist-packages (from torchvision) (2.31.0)\n",
            "Requirement already satisfied: pillow!=8.3.*,>=5.3.0 in /usr/local/lib/python3.10/dist-packages (from torchvision) (9.4.0)\n",
            "Requirement already satisfied: MarkupSafe>=2.0 in /usr/local/lib/python3.10/dist-packages (from jinja2->torch) (2.1.5)\n",
            "Requirement already satisfied: charset-normalizer<4,>=2 in /usr/local/lib/python3.10/dist-packages (from requests->torchvision) (3.3.2)\n",
            "Requirement already satisfied: idna<4,>=2.5 in /usr/local/lib/python3.10/dist-packages (from requests->torchvision) (3.6)\n",
            "Requirement already satisfied: urllib3<3,>=1.21.1 in /usr/local/lib/python3.10/dist-packages (from requests->torchvision) (2.0.7)\n",
            "Requirement already satisfied: certifi>=2017.4.17 in /usr/local/lib/python3.10/dist-packages (from requests->torchvision) (2024.2.2)\n",
            "Requirement already satisfied: mpmath>=0.19 in /usr/local/lib/python3.10/dist-packages (from sympy->torch) (1.3.0)\n"
          ]
        }
      ],
      "source": [
        "!pip install torch torchvision"
      ]
    },
    {
      "cell_type": "code",
      "execution_count": null,
      "metadata": {
        "id": "2rVuAJhms8oH"
      },
      "outputs": [],
      "source": [
        "import torch"
      ]
    },
    {
      "cell_type": "markdown",
      "metadata": {
        "id": "wDB8jjooulE_"
      },
      "source": [
        "##Tensor generation using pytorch:-"
      ]
    },
    {
      "cell_type": "markdown",
      "metadata": {
        "id": "GHEeh9UvxQO4"
      },
      "source": [
        "#Element wise Operation:-"
      ]
    },
    {
      "cell_type": "code",
      "execution_count": null,
      "metadata": {
        "colab": {
          "base_uri": "https://localhost:8080/"
        },
        "id": "mFbtm2FPs-6m",
        "outputId": "913ef747-234e-42e8-d73c-60cdddb663f7"
      },
      "outputs": [
        {
          "data": {
            "text/plain": [
              "tensor([6.5258e+24])"
            ]
          },
          "execution_count": 108,
          "metadata": {},
          "output_type": "execute_result"
        }
      ],
      "source": [
        "x = torch.empty(1)\n",
        "x"
      ]
    },
    {
      "cell_type": "code",
      "execution_count": null,
      "metadata": {
        "colab": {
          "base_uri": "https://localhost:8080/"
        },
        "id": "DyWHFLNHt3tP",
        "outputId": "80e77ea8-e805-47e2-939e-5d9c4b8f7120"
      },
      "outputs": [
        {
          "data": {
            "text/plain": [
              "tensor([[3.0029e+19, 4.5181e-41, 7.1263e+24],\n",
              "        [3.3251e-41, 0.0000e+00, 0.0000e+00],\n",
              "        [0.0000e+00, 0.0000e+00, 0.0000e+00],\n",
              "        [2.1111e+08, 7.7052e+31, 7.2148e+22],\n",
              "        [1.5766e-19, 1.0256e-08, 1.0255e-08]])"
            ]
          },
          "execution_count": 109,
          "metadata": {},
          "output_type": "execute_result"
        }
      ],
      "source": [
        "x = torch.empty(5,3) # 5x3 matrix\n",
        "x"
      ]
    },
    {
      "cell_type": "markdown",
      "metadata": {
        "id": "ANsWln6YubUp"
      },
      "source": [
        "#3 D matrix:"
      ]
    },
    {
      "cell_type": "code",
      "execution_count": null,
      "metadata": {
        "colab": {
          "base_uri": "https://localhost:8080/"
        },
        "id": "RVdjczi4t6Mf",
        "outputId": "27080dda-7f33-45e3-9958-9f824bc9a1f0"
      },
      "outputs": [
        {
          "data": {
            "text/plain": [
              "tensor([[[ 7.6719e+24,  3.3251e-41,  7.1111e+24],\n",
              "         [ 3.3251e-41,  8.9683e-44,  0.0000e+00],\n",
              "         [ 1.1210e-43,  0.0000e+00, -1.8278e-17],\n",
              "         [ 3.3256e-41,  0.0000e+00,  0.0000e+00],\n",
              "         [ 0.0000e+00,  0.0000e+00,  0.0000e+00]],\n",
              "\n",
              "        [[ 0.0000e+00,  0.0000e+00,  0.0000e+00],\n",
              "         [ 0.0000e+00,  0.0000e+00,  0.0000e+00],\n",
              "         [ 0.0000e+00,  1.4013e-45,  0.0000e+00],\n",
              "         [ 0.0000e+00,  0.0000e+00,  1.3593e-43],\n",
              "         [ 0.0000e+00,  7.4996e+24,  3.3251e-41]]])"
            ]
          },
          "execution_count": 110,
          "metadata": {},
          "output_type": "execute_result"
        }
      ],
      "source": [
        "x = torch.empty(2,5,3) # 5x3 matrix\n",
        "x"
      ]
    },
    {
      "cell_type": "code",
      "execution_count": null,
      "metadata": {
        "colab": {
          "base_uri": "https://localhost:8080/"
        },
        "id": "qIFexNYfuME4",
        "outputId": "8564344f-e40e-44ca-d492-9ed24dbda764"
      },
      "outputs": [
        {
          "data": {
            "text/plain": [
              "tensor([[[[ 0.0000e+00,  0.0000e+00,  0.0000e+00],\n",
              "          [ 0.0000e+00,  0.0000e+00,  0.0000e+00],\n",
              "          [ 0.0000e+00,  0.0000e+00,  0.0000e+00],\n",
              "          [ 0.0000e+00,  0.0000e+00,  0.0000e+00],\n",
              "          [ 0.0000e+00,  0.0000e+00,  0.0000e+00]],\n",
              "\n",
              "         [[ 0.0000e+00,  0.0000e+00,  0.0000e+00],\n",
              "          [ 2.4367e+24,  0.0000e+00,  0.0000e+00],\n",
              "          [ 0.0000e+00,  0.0000e+00,  0.0000e+00],\n",
              "          [ 0.0000e+00,  0.0000e+00,  0.0000e+00],\n",
              "          [ 0.0000e+00,  0.0000e+00,  0.0000e+00]]],\n",
              "\n",
              "\n",
              "        [[[ 1.4013e-45,  0.0000e+00,  7.7070e+24],\n",
              "          [ 3.3251e-41,  0.0000e+00,  0.0000e+00],\n",
              "          [ 3.2234e+21,  3.3251e-41,  0.0000e+00],\n",
              "          [ 0.0000e+00, -2.7098e+16,  4.5179e-41],\n",
              "          [ 0.0000e+00,  0.0000e+00,  0.0000e+00]],\n",
              "\n",
              "         [[ 0.0000e+00,  0.0000e+00,  0.0000e+00],\n",
              "          [ 0.0000e+00,  0.0000e+00,  0.0000e+00],\n",
              "          [ 0.0000e+00,  0.0000e+00,  0.0000e+00],\n",
              "          [ 1.4013e-45,  0.0000e+00,  4.2039e-45],\n",
              "          [ 0.0000e+00,  1.1351e-43,  0.0000e+00]]]])"
            ]
          },
          "execution_count": 111,
          "metadata": {},
          "output_type": "execute_result"
        }
      ],
      "source": [
        "x = torch.empty(2,2,5,3) # 5x3 matrix\n",
        "x"
      ]
    },
    {
      "cell_type": "markdown",
      "metadata": {
        "id": "cQcD1Tzdup-C"
      },
      "source": [
        "Using rand() ▶"
      ]
    },
    {
      "cell_type": "code",
      "execution_count": null,
      "metadata": {
        "colab": {
          "base_uri": "https://localhost:8080/"
        },
        "id": "bM7hUvW0vFTv",
        "outputId": "15480a0b-7979-44b5-e944-e3a315035e9a"
      },
      "outputs": [
        {
          "data": {
            "text/plain": [
              "tensor([[0.4385, 0.4462, 0.0073],\n",
              "        [0.5406, 0.5705, 0.6479],\n",
              "        [0.0549, 0.7769, 0.3394],\n",
              "        [0.9198, 0.0400, 0.4853],\n",
              "        [0.3421, 0.4824, 0.8691]])"
            ]
          },
          "execution_count": 112,
          "metadata": {},
          "output_type": "execute_result"
        }
      ],
      "source": [
        "x = torch.rand(5,3) # Tensor will be generated  with 5 Rows and 3 Columns\n",
        "x"
      ]
    },
    {
      "cell_type": "markdown",
      "metadata": {
        "id": "LkzJVdNYv_vh"
      },
      "source": [
        "Using zeros() ▶"
      ]
    },
    {
      "cell_type": "code",
      "execution_count": null,
      "metadata": {
        "colab": {
          "base_uri": "https://localhost:8080/"
        },
        "id": "L1yzz9Znv-23",
        "outputId": "a1d98eb1-1e5f-4b6f-e075-28eefc612eef"
      },
      "outputs": [
        {
          "data": {
            "text/plain": [
              "tensor([[0., 0., 0.],\n",
              "        [0., 0., 0.],\n",
              "        [0., 0., 0.],\n",
              "        [0., 0., 0.],\n",
              "        [0., 0., 0.]])"
            ]
          },
          "execution_count": 113,
          "metadata": {},
          "output_type": "execute_result"
        }
      ],
      "source": [
        "x = torch.zeros(5,3)\n",
        "x"
      ]
    },
    {
      "cell_type": "markdown",
      "metadata": {
        "id": "4MQVhGUQwLHA"
      },
      "source": [
        "using ones() ▶"
      ]
    },
    {
      "cell_type": "code",
      "execution_count": null,
      "metadata": {
        "colab": {
          "base_uri": "https://localhost:8080/"
        },
        "id": "AQqLb60MwISq",
        "outputId": "f8b9ddf5-5100-460d-f3ba-d25413af47a8"
      },
      "outputs": [
        {
          "data": {
            "text/plain": [
              "tensor([[1., 1., 1.],\n",
              "        [1., 1., 1.],\n",
              "        [1., 1., 1.],\n",
              "        [1., 1., 1.],\n",
              "        [1., 1., 1.]])"
            ]
          },
          "execution_count": 114,
          "metadata": {},
          "output_type": "execute_result"
        }
      ],
      "source": [
        "x = torch.ones(5,3) #similar to np.ones or np.zeros\n",
        "x"
      ]
    },
    {
      "cell_type": "markdown",
      "metadata": {
        "id": "MVAjlZW9wgjy"
      },
      "source": [
        "tensor addition operation ▶"
      ]
    },
    {
      "cell_type": "code",
      "execution_count": null,
      "metadata": {
        "id": "J7Ri_ddcwYkA"
      },
      "outputs": [],
      "source": [
        "x = torch.rand(2,2)\n",
        "y = torch.rand(2,2)\n",
        "\n",
        "z = x + y"
      ]
    },
    {
      "cell_type": "code",
      "execution_count": null,
      "metadata": {
        "colab": {
          "base_uri": "https://localhost:8080/"
        },
        "id": "E0jUlHCmwzqB",
        "outputId": "104965be-4ef1-495f-a60c-f7e5351af9a9"
      },
      "outputs": [
        {
          "name": "stdout",
          "output_type": "stream",
          "text": [
            "tensor([[0.0892, 0.2690],\n",
            "        [0.6009, 0.6654]])\n",
            "tensor([[0.5821, 0.8431],\n",
            "        [0.5358, 0.9213]])\n",
            "tensor([[0.6713, 1.1120],\n",
            "        [1.1366, 1.5868]])\n"
          ]
        }
      ],
      "source": [
        "print(x)\n",
        "print(y)\n",
        "print(z) # Sum of tensors"
      ]
    },
    {
      "cell_type": "code",
      "execution_count": null,
      "metadata": {
        "id": "baceqNnhxVrL"
      },
      "outputs": [],
      "source": [
        "p = x - y #"
      ]
    },
    {
      "cell_type": "code",
      "execution_count": null,
      "metadata": {
        "colab": {
          "base_uri": "https://localhost:8080/"
        },
        "id": "Hp234ftNxbEY",
        "outputId": "20e7192f-87ef-4150-cdfa-114f615c868f"
      },
      "outputs": [
        {
          "name": "stdout",
          "output_type": "stream",
          "text": [
            "tensor([[-0.4929, -0.5741],\n",
            "        [ 0.0651, -0.2559]])\n"
          ]
        }
      ],
      "source": [
        "print(p)"
      ]
    },
    {
      "cell_type": "markdown",
      "metadata": {
        "id": "8v64UElfyaQI"
      },
      "source": [
        "same way we can perform multiplication, devision operation ⚛"
      ]
    },
    {
      "cell_type": "code",
      "execution_count": null,
      "metadata": {
        "id": "YQy-M8BaxxdY"
      },
      "outputs": [],
      "source": []
    },
    {
      "cell_type": "markdown",
      "metadata": {
        "id": "ArqfPrxDyfKC"
      },
      "source": [
        "#Slicing of pytorch tensor ▶"
      ]
    },
    {
      "cell_type": "code",
      "execution_count": null,
      "metadata": {
        "colab": {
          "base_uri": "https://localhost:8080/"
        },
        "id": "18llEGUBymlh",
        "outputId": "0fbee09c-0aa8-48ca-a39b-9481cdf4c4bd"
      },
      "outputs": [
        {
          "data": {
            "text/plain": [
              "tensor([[0.2448, 0.4344, 0.1452, 0.1761],\n",
              "        [0.6789, 0.1691, 0.4323, 0.4998],\n",
              "        [0.6356, 0.3274, 0.5258, 0.2424],\n",
              "        [0.8333, 0.0965, 0.6569, 0.7272],\n",
              "        [0.7501, 0.8339, 0.7892, 0.9697]])"
            ]
          },
          "execution_count": 119,
          "metadata": {},
          "output_type": "execute_result"
        }
      ],
      "source": [
        "x = torch.rand(5,4)\n",
        "x"
      ]
    },
    {
      "cell_type": "code",
      "execution_count": null,
      "metadata": {
        "colab": {
          "base_uri": "https://localhost:8080/"
        },
        "id": "nW05-YXbysz4",
        "outputId": "104b29bb-dd9e-407b-a698-a7b83823349e"
      },
      "outputs": [
        {
          "data": {
            "text/plain": [
              "tensor([[0.2448, 0.4344],\n",
              "        [0.6789, 0.1691],\n",
              "        [0.6356, 0.3274],\n",
              "        [0.8333, 0.0965],\n",
              "        [0.7501, 0.8339]])"
            ]
          },
          "execution_count": 120,
          "metadata": {},
          "output_type": "execute_result"
        }
      ],
      "source": [
        "# to display all rows with  only first 2 columns:\n",
        "\n",
        "x[:,:2]"
      ]
    },
    {
      "cell_type": "code",
      "execution_count": null,
      "metadata": {
        "colab": {
          "base_uri": "https://localhost:8080/"
        },
        "id": "bgCbNjoZ0nri",
        "outputId": "9a116683-3e70-42d0-cb23-181f8d39a521"
      },
      "outputs": [
        {
          "data": {
            "text/plain": [
              "tensor([[0.2448, 0.4344, 0.1452, 0.1761],\n",
              "        [0.6789, 0.1691, 0.4323, 0.4998],\n",
              "        [0.6356, 0.3274, 0.5258, 0.2424]])"
            ]
          },
          "execution_count": 121,
          "metadata": {},
          "output_type": "execute_result"
        }
      ],
      "source": [
        "x[:3,:]"
      ]
    },
    {
      "cell_type": "code",
      "execution_count": null,
      "metadata": {
        "colab": {
          "base_uri": "https://localhost:8080/"
        },
        "id": "tOLnqbnD0szB",
        "outputId": "99715f43-56a6-4ccc-bb65-1ab45f9da5f5"
      },
      "outputs": [
        {
          "data": {
            "text/plain": [
              "tensor([[0.1452, 0.1761],\n",
              "        [0.4323, 0.4998],\n",
              "        [0.5258, 0.2424],\n",
              "        [0.6569, 0.7272],\n",
              "        [0.7892, 0.9697]])"
            ]
          },
          "execution_count": 122,
          "metadata": {},
          "output_type": "execute_result"
        }
      ],
      "source": [
        "#all rows with last 2 columns\n",
        "x[:,2:]"
      ]
    },
    {
      "cell_type": "markdown",
      "metadata": {
        "id": "zQerGfkX2Y85"
      },
      "source": [
        "#Re-Shaping of pytorch tensor ▶\n",
        "\n",
        "##view ()  method"
      ]
    },
    {
      "cell_type": "code",
      "execution_count": null,
      "metadata": {
        "colab": {
          "base_uri": "https://localhost:8080/"
        },
        "id": "ymBU738W2cXB",
        "outputId": "9fccfaaa-54e4-49ed-9f36-a75d079ea889"
      },
      "outputs": [
        {
          "data": {
            "text/plain": [
              "tensor([[0.0013, 0.2979, 0.3700, 0.4331],\n",
              "        [0.6952, 0.3083, 0.9285, 0.5732],\n",
              "        [0.8580, 0.2416, 0.2511, 0.9753],\n",
              "        [0.2392, 0.0942, 0.7064, 0.3568],\n",
              "        [0.2249, 0.1875, 0.4050, 0.9199]])"
            ]
          },
          "execution_count": 123,
          "metadata": {},
          "output_type": "execute_result"
        }
      ],
      "source": [
        "x = torch.rand(5,4)\n",
        "x"
      ]
    },
    {
      "cell_type": "code",
      "execution_count": null,
      "metadata": {
        "colab": {
          "base_uri": "https://localhost:8080/"
        },
        "id": "C6HL4yf22o_a",
        "outputId": "c4866b64-440b-4c44-e080-4c6702406dfe"
      },
      "outputs": [
        {
          "data": {
            "text/plain": [
              "tensor([0.0013, 0.2979, 0.3700, 0.4331, 0.6952, 0.3083, 0.9285, 0.5732, 0.8580,\n",
              "        0.2416, 0.2511, 0.9753, 0.2392, 0.0942, 0.7064, 0.3568, 0.2249, 0.1875,\n",
              "        0.4050, 0.9199])"
            ]
          },
          "execution_count": 124,
          "metadata": {},
          "output_type": "execute_result"
        }
      ],
      "source": [
        "#Above example is 5x4 matrix\n",
        "\n",
        "\n",
        "#let's reshape it to 1 D\n",
        "\n",
        "y = x.view(20) # 5*4 = 20 , if you put any other no. its will causing error.\n",
        "y"
      ]
    },
    {
      "cell_type": "code",
      "execution_count": null,
      "metadata": {
        "colab": {
          "base_uri": "https://localhost:8080/"
        },
        "id": "eV3Szh6C25tJ",
        "outputId": "09c172c5-051d-4c6c-93de-9fe3dc8fbced"
      },
      "outputs": [
        {
          "data": {
            "text/plain": [
              "tensor([[0.0013, 0.2979, 0.3700, 0.4331, 0.6952, 0.3083, 0.9285, 0.5732, 0.8580,\n",
              "         0.2416],\n",
              "        [0.2511, 0.9753, 0.2392, 0.0942, 0.7064, 0.3568, 0.2249, 0.1875, 0.4050,\n",
              "         0.9199]])"
            ]
          },
          "execution_count": 125,
          "metadata": {},
          "output_type": "execute_result"
        }
      ],
      "source": [
        "#let's reshape it to 2 D\n",
        "\n",
        "y = x.view(-1,10) #items will be In two matrix forms.\n",
        "y"
      ]
    },
    {
      "cell_type": "markdown",
      "metadata": {
        "id": "71AVbQPM4tGh"
      },
      "source": [
        "#Convert Torch Tensor to Numpy Or Vice-Versa :)"
      ]
    },
    {
      "cell_type": "code",
      "execution_count": null,
      "metadata": {
        "id": "c8WpyxCI41ii"
      },
      "outputs": [],
      "source": [
        "import numpy as np\n",
        "import torch"
      ]
    },
    {
      "cell_type": "code",
      "execution_count": null,
      "metadata": {
        "colab": {
          "base_uri": "https://localhost:8080/"
        },
        "id": "cY5Ev7GT49oy",
        "outputId": "236d365a-57ea-4dc2-f643-de78b5f946d6"
      },
      "outputs": [
        {
          "data": {
            "text/plain": [
              "tensor([[1., 1., 1., 1.],\n",
              "        [1., 1., 1., 1.],\n",
              "        [1., 1., 1., 1.],\n",
              "        [1., 1., 1., 1.],\n",
              "        [1., 1., 1., 1.]])"
            ]
          },
          "execution_count": 127,
          "metadata": {},
          "output_type": "execute_result"
        }
      ],
      "source": [
        "x = torch.ones(5,4)\n",
        "x"
      ]
    },
    {
      "cell_type": "markdown",
      "metadata": {
        "id": "Tf__irGD5dLa"
      },
      "source": [
        "conversion of tensor to numpy:\n",
        "\n",
        "Syntax:\n",
        "\n",
        "x.numpy()"
      ]
    },
    {
      "cell_type": "code",
      "execution_count": null,
      "metadata": {
        "colab": {
          "base_uri": "https://localhost:8080/"
        },
        "id": "u-k_sQ3W5L1S",
        "outputId": "58bffa1c-cfe7-4847-8456-aae675e6e623"
      },
      "outputs": [
        {
          "data": {
            "text/plain": [
              "array([[1., 1., 1., 1.],\n",
              "       [1., 1., 1., 1.],\n",
              "       [1., 1., 1., 1.],\n",
              "       [1., 1., 1., 1.],\n",
              "       [1., 1., 1., 1.]], dtype=float32)"
            ]
          },
          "execution_count": 128,
          "metadata": {},
          "output_type": "execute_result"
        }
      ],
      "source": [
        "y = x.numpy()\n",
        "y"
      ]
    },
    {
      "cell_type": "markdown",
      "metadata": {
        "id": "ocduU04L57aa"
      },
      "source": [
        "conversion of numpy to tensor :\n",
        "\n",
        "Syntax:\n",
        "\n",
        "y= torch.from_numpy(x)"
      ]
    },
    {
      "cell_type": "code",
      "execution_count": null,
      "metadata": {
        "colab": {
          "base_uri": "https://localhost:8080/"
        },
        "id": "yoOnRki35830",
        "outputId": "40751290-f78f-4234-8718-5bd77744e73e"
      },
      "outputs": [
        {
          "data": {
            "text/plain": [
              "array([[1., 1., 1., 1.],\n",
              "       [1., 1., 1., 1.],\n",
              "       [1., 1., 1., 1.],\n",
              "       [1., 1., 1., 1.],\n",
              "       [1., 1., 1., 1.]])"
            ]
          },
          "execution_count": 129,
          "metadata": {},
          "output_type": "execute_result"
        }
      ],
      "source": [
        "x = np.ones((5,4))\n",
        "x"
      ]
    },
    {
      "cell_type": "code",
      "execution_count": null,
      "metadata": {
        "colab": {
          "base_uri": "https://localhost:8080/"
        },
        "id": "9kKSMeWD6cMr",
        "outputId": "f7bb62ab-3e06-436b-f950-811ae29077a7"
      },
      "outputs": [
        {
          "data": {
            "text/plain": [
              "tensor([[1., 1., 1., 1.],\n",
              "        [1., 1., 1., 1.],\n",
              "        [1., 1., 1., 1.],\n",
              "        [1., 1., 1., 1.],\n",
              "        [1., 1., 1., 1.]], dtype=torch.float64)"
            ]
          },
          "execution_count": 130,
          "metadata": {},
          "output_type": "execute_result"
        }
      ],
      "source": [
        "y= torch.from_numpy(x)\n",
        "y"
      ]
    },
    {
      "cell_type": "markdown",
      "metadata": {
        "id": "VrObvp4VDQXX"
      },
      "source": [
        "#shift tensor to  GPU:\n",
        "\n",
        "if available:"
      ]
    },
    {
      "cell_type": "markdown",
      "metadata": {
        "id": "qKY89rJiDZwj"
      },
      "source": [
        "in colab:  go to run time change runtime --\n",
        "\n",
        "change to GPU"
      ]
    },
    {
      "cell_type": "code",
      "execution_count": null,
      "metadata": {
        "colab": {
          "base_uri": "https://localhost:8080/"
        },
        "id": "GB-uWs2sDKSM",
        "outputId": "0904feb4-f7cb-43c4-f66d-a1bdb0dd9193"
      },
      "outputs": [
        {
          "data": {
            "text/plain": [
              "device(type='cpu')"
            ]
          },
          "execution_count": 131,
          "metadata": {},
          "output_type": "execute_result"
        }
      ],
      "source": [
        "# to know weather gpu available:\n",
        "\n",
        "if torch.cuda.is_available():\n",
        "  device = torch.device(\"cuda\")\n",
        "else:\n",
        "  device = torch.device(\"cpu\")\n",
        "device"
      ]
    },
    {
      "cell_type": "markdown",
      "metadata": {
        "id": "UBdmAnZyQEr4"
      },
      "source": [
        "Requires_grad argument :"
      ]
    },
    {
      "cell_type": "code",
      "execution_count": null,
      "metadata": {
        "colab": {
          "base_uri": "https://localhost:8080/"
        },
        "id": "tm0hREWePuBv",
        "outputId": "ac48fc5a-ddfb-4c11-88b5-0ed46e98e4e3"
      },
      "outputs": [
        {
          "data": {
            "text/plain": [
              "tensor([[1., 1., 1., 1.],\n",
              "        [1., 1., 1., 1.],\n",
              "        [1., 1., 1., 1.],\n",
              "        [1., 1., 1., 1.],\n",
              "        [1., 1., 1., 1.]], requires_grad=True)"
            ]
          },
          "execution_count": 132,
          "metadata": {},
          "output_type": "execute_result"
        }
      ],
      "source": [
        "x = torch.ones(5,4, requires_grad=True)\n",
        "x"
      ]
    },
    {
      "cell_type": "markdown",
      "metadata": {
        "id": "yiMzhcvdQZH-"
      },
      "source": [
        "#Autograd Pytorch:"
      ]
    },
    {
      "cell_type": "code",
      "execution_count": null,
      "metadata": {
        "colab": {
          "base_uri": "https://localhost:8080/"
        },
        "id": "Bi7s_cEmQchY",
        "outputId": "26f4e930-44d9-402c-8d72-d21685f1b7f5"
      },
      "outputs": [
        {
          "data": {
            "text/plain": [
              "tensor([0.0828, 0.1655, 0.1866, 0.3338], requires_grad=True)"
            ]
          },
          "execution_count": 133,
          "metadata": {},
          "output_type": "execute_result"
        }
      ],
      "source": [
        "import torch\n",
        "\n",
        "x = torch.rand(4, requires_grad = True)\n",
        "\n",
        "x"
      ]
    },
    {
      "cell_type": "code",
      "execution_count": null,
      "metadata": {
        "colab": {
          "base_uri": "https://localhost:8080/"
        },
        "id": "6tkCtdT0QoXp",
        "outputId": "0bc50169-aec9-443b-d586-ae19391251d0"
      },
      "outputs": [
        {
          "data": {
            "text/plain": [
              "tensor([5.0828, 5.1655, 5.1866, 5.3338], grad_fn=<AddBackward0>)"
            ]
          },
          "execution_count": 134,
          "metadata": {},
          "output_type": "execute_result"
        }
      ],
      "source": [
        "y = x+5\n",
        "\n",
        "y"
      ]
    },
    {
      "cell_type": "markdown",
      "metadata": {
        "id": "n9jfd91mQwkp"
      },
      "source": [
        "this will generate grad function like:  grad_fn= < AddBackward0>"
      ]
    },
    {
      "cell_type": "code",
      "execution_count": null,
      "metadata": {
        "colab": {
          "base_uri": "https://localhost:8080/"
        },
        "id": "4845yxW0REJH",
        "outputId": "d022a01d-7373-4a17-890a-ed3e15102d7c"
      },
      "outputs": [
        {
          "data": {
            "text/plain": [
              "tensor([0.4145, 0.4870, 0.0227])"
            ]
          },
          "execution_count": 135,
          "metadata": {},
          "output_type": "execute_result"
        }
      ],
      "source": [
        "y = torch.rand(3)\n",
        "y"
      ]
    },
    {
      "cell_type": "code",
      "execution_count": null,
      "metadata": {
        "colab": {
          "base_uri": "https://localhost:8080/"
        },
        "id": "2TUv1quORKhn",
        "outputId": "439637f9-bc5b-4ebb-f76f-f6d843c98fa0"
      },
      "outputs": [
        {
          "data": {
            "text/plain": [
              "tensor([0.3012, 0.2505, 0.2249], requires_grad=True)"
            ]
          },
          "execution_count": 136,
          "metadata": {},
          "output_type": "execute_result"
        }
      ],
      "source": [
        "y = torch.rand(3, requires_grad =True)\n",
        "y"
      ]
    },
    {
      "cell_type": "code",
      "execution_count": null,
      "metadata": {
        "colab": {
          "base_uri": "https://localhost:8080/"
        },
        "id": "SEJs0UVjRMnX",
        "outputId": "a59620d2-cb03-4abf-fffa-1fe329366af4"
      },
      "outputs": [
        {
          "data": {
            "text/plain": [
              "tensor([5.3012, 5.2505, 5.2249], grad_fn=<AddBackward0>)"
            ]
          },
          "execution_count": 137,
          "metadata": {},
          "output_type": "execute_result"
        }
      ],
      "source": [
        "x = y+5\n",
        "x"
      ]
    },
    {
      "cell_type": "code",
      "execution_count": null,
      "metadata": {
        "colab": {
          "base_uri": "https://localhost:8080/"
        },
        "id": "5gyq8RUDRdMw",
        "outputId": "df2cbc23-5211-4753-e08c-bf82d2cfc24d"
      },
      "outputs": [
        {
          "data": {
            "text/plain": [
              "tensor([84.3069, 82.7042, 81.8990], grad_fn=<MulBackward0>)"
            ]
          },
          "execution_count": 138,
          "metadata": {},
          "output_type": "execute_result"
        }
      ],
      "source": [
        "z=  x*x*3\n",
        "z"
      ]
    },
    {
      "cell_type": "code",
      "execution_count": null,
      "metadata": {
        "colab": {
          "base_uri": "https://localhost:8080/"
        },
        "id": "niSlh9y4RyBJ",
        "outputId": "25fdd614-2f63-4c47-99bf-37920b8296b8"
      },
      "outputs": [
        {
          "name": "stderr",
          "output_type": "stream",
          "text": [
            "<ipython-input-139-bff4891699a8>:3: UserWarning: The .grad attribute of a Tensor that is not a leaf Tensor is being accessed. Its .grad attribute won't be populated during autograd.backward(). If you indeed want the .grad field to be populated for a non-leaf Tensor, use .retain_grad() on the non-leaf Tensor. If you access the non-leaf Tensor by mistake, make sure you access the leaf Tensor instead. See github.com/pytorch/pytorch/pull/30531 for more informations. (Triggered internally at aten/src/ATen/core/TensorBody.h:489.)\n",
            "  x.grad\n"
          ]
        }
      ],
      "source": [
        "z = z.mean() #scalar value\n",
        "z.backward() # dz/dx\n",
        "x.grad"
      ]
    },
    {
      "cell_type": "markdown",
      "metadata": {
        "id": "s9hWiD5qSjjx"
      },
      "source": [
        "let's suppose  i don't want to show this grad function : --"
      ]
    },
    {
      "cell_type": "code",
      "execution_count": null,
      "metadata": {
        "colab": {
          "base_uri": "https://localhost:8080/"
        },
        "id": "eXRcb4X6SpQ2",
        "outputId": "eff741ca-f6bc-44d7-fdd6-6aa35a8f54ec"
      },
      "outputs": [
        {
          "data": {
            "text/plain": [
              "tensor([0.4147, 0.9693, 0.5438, 0.4918], requires_grad=True)"
            ]
          },
          "execution_count": 140,
          "metadata": {},
          "output_type": "execute_result"
        }
      ],
      "source": [
        "x = torch.rand(4, requires_grad =True)\n",
        "x"
      ]
    },
    {
      "cell_type": "code",
      "execution_count": null,
      "metadata": {
        "colab": {
          "base_uri": "https://localhost:8080/"
        },
        "id": "h45shm0ySwoB",
        "outputId": "c67e297f-2847-487d-a7ba-074a13d592e4"
      },
      "outputs": [
        {
          "data": {
            "text/plain": [
              "tensor([5.4147, 5.9693, 5.5438, 5.4918])"
            ]
          },
          "execution_count": 141,
          "metadata": {},
          "output_type": "execute_result"
        }
      ],
      "source": [
        "with torch.no_grad():\n",
        "  y= x+5\n",
        "y"
      ]
    },
    {
      "cell_type": "markdown",
      "metadata": {
        "id": "fN1ce2SGT-t_"
      },
      "source": [
        "#Simple trainig examples to understands this concept:"
      ]
    },
    {
      "cell_type": "code",
      "execution_count": null,
      "metadata": {
        "colab": {
          "base_uri": "https://localhost:8080/"
        },
        "id": "JHfUl6igT_MX",
        "outputId": "1048e577-3cea-4fff-984a-157c466af856"
      },
      "outputs": [
        {
          "name": "stdout",
          "output_type": "stream",
          "text": [
            "tensor([3., 3., 3.])\n",
            "tensor([3., 3., 3.])\n",
            "tensor([3., 3., 3.])\n"
          ]
        }
      ],
      "source": [
        "import torch\n",
        "w= torch.ones(3, requires_grad=True)\n",
        "w\n",
        "\n",
        "\n",
        "#dummy training\n",
        "\n",
        "for epoch in range(3):\n",
        "  output = (3*w).sum()\n",
        "  output.backward()\n",
        "  print(w.grad)\n",
        "  w.grad.zero_()"
      ]
    },
    {
      "cell_type": "markdown",
      "metadata": {
        "id": "RS73GQWRVSIp"
      },
      "source": [
        "#BackPropagation  In Pytorch:\n",
        "\n",
        "Let's understands with example: -"
      ]
    },
    {
      "cell_type": "code",
      "execution_count": null,
      "metadata": {
        "id": "hOUnRMtVVW46"
      },
      "outputs": [],
      "source": [
        "import torch"
      ]
    },
    {
      "cell_type": "code",
      "execution_count": null,
      "metadata": {
        "id": "frUqTpLP3jEd"
      },
      "outputs": [],
      "source": [
        "x = torch.tensor(3.0)\n",
        "Y = torch.tensor(36.0)"
      ]
    },
    {
      "cell_type": "code",
      "execution_count": null,
      "metadata": {
        "id": "9fBMI7D97Pbf"
      },
      "outputs": [],
      "source": [
        "a = torch.tensor(2.0, requires_grad=True)\n",
        "b = torch.tensor(3.0, requires_grad=True)"
      ]
    },
    {
      "cell_type": "code",
      "execution_count": null,
      "metadata": {
        "id": "LCcbBxWw7au5"
      },
      "outputs": [],
      "source": [
        "#forward pass and compute loss:\n",
        "z = a*x*x\n",
        "y= b*z"
      ]
    },
    {
      "cell_type": "code",
      "execution_count": null,
      "metadata": {
        "id": "xnPkDn0U7k_q"
      },
      "outputs": [],
      "source": [
        "J = 0.5*(y-Y)*(y-Y)"
      ]
    },
    {
      "cell_type": "code",
      "execution_count": null,
      "metadata": {
        "colab": {
          "base_uri": "https://localhost:8080/"
        },
        "id": "tHOl-U0g7toY",
        "outputId": "407627a3-9b26-472a-98ef-7c01c0ca8704"
      },
      "outputs": [
        {
          "data": {
            "text/plain": [
              "tensor(486.)"
            ]
          },
          "execution_count": 148,
          "metadata": {},
          "output_type": "execute_result"
        }
      ],
      "source": [
        "J.backward()\n",
        "a.grad\n"
      ]
    },
    {
      "cell_type": "code",
      "execution_count": null,
      "metadata": {
        "colab": {
          "base_uri": "https://localhost:8080/"
        },
        "id": "UBF19n4M8atn",
        "outputId": "a469f43c-fbaf-400e-9fca-284886c1c904"
      },
      "outputs": [
        {
          "data": {
            "text/plain": [
              "tensor(324.)"
            ]
          },
          "execution_count": 149,
          "metadata": {},
          "output_type": "execute_result"
        }
      ],
      "source": [
        "b.grad"
      ]
    },
    {
      "cell_type": "code",
      "execution_count": null,
      "metadata": {
        "colab": {
          "base_uri": "https://localhost:8080/"
        },
        "id": "1oXPL_xC8cad",
        "outputId": "b34d443f-57b8-442b-9fdd-d94513629767"
      },
      "outputs": [
        {
          "data": {
            "text/plain": [
              "tensor(0.)"
            ]
          },
          "execution_count": 150,
          "metadata": {},
          "output_type": "execute_result"
        }
      ],
      "source": [
        "a.grad.zero_()\n",
        "b.grad.zero_()"
      ]
    },
    {
      "cell_type": "markdown",
      "metadata": {
        "id": "mhoPWxL79CUF"
      },
      "source": [
        "#Data Loader in PyTorch:"
      ]
    },
    {
      "cell_type": "code",
      "execution_count": null,
      "metadata": {
        "id": "LiYTebfe9GiW"
      },
      "outputs": [],
      "source": [
        "import torch\n",
        "import numpy as np\n",
        "from torch.utils.data import Dataset, DataLoader"
      ]
    },
    {
      "cell_type": "code",
      "execution_count": null,
      "metadata": {
        "id": "rDbH1tai9bWq"
      },
      "outputs": [],
      "source": [
        "x = np.random.randn(150,5)\n",
        "y = np.random.randn(150,3)"
      ]
    },
    {
      "cell_type": "code",
      "execution_count": null,
      "metadata": {
        "id": "xPMMyxSP9lTL"
      },
      "outputs": [],
      "source": [
        "class OurDataset(Dataset):\n",
        "\n",
        "  def __init__(self,x,y):\n",
        "    #data loading\n",
        "    self.x = torch.from_numpy(x)\n",
        "    self.x = torch.from_numpy(y)\n",
        "  def __getitem__(self, index):\n",
        "    #dataset[0]\n",
        "    return self.x[index],self.y[index]\n",
        "  def __len__(self):\n",
        "    #length\n",
        "    return len(self.x)"
      ]
    },
    {
      "cell_type": "code",
      "execution_count": null,
      "metadata": {
        "id": "YDXfzgFB-N5s"
      },
      "outputs": [],
      "source": [
        "x= np.random.randn(150,5)\n",
        "y= np.random.randn(150,3)"
      ]
    },
    {
      "cell_type": "code",
      "execution_count": null,
      "metadata": {
        "colab": {
          "base_uri": "https://localhost:8080/"
        },
        "id": "i7gyNxL1_jWS",
        "outputId": "20c96caa-3ac4-40ac-d609-136b23df4829"
      },
      "outputs": [
        {
          "data": {
            "text/plain": [
              "array([[-1.06954618, -0.1232431 ,  2.73509599,  0.27166586, -1.01280161],\n",
              "       [ 0.97747222, -1.57285776, -0.23157759, -0.45507904,  0.08647403],\n",
              "       [ 0.43276546, -0.7490895 ,  0.03864961, -1.12025354, -0.54842298],\n",
              "       [ 0.6396207 ,  1.5674532 ,  0.12780379, -0.74623057, -0.74937877],\n",
              "       [ 0.20252831, -1.21156962, -0.43298061,  1.02198938, -0.96684093],\n",
              "       [ 0.79493274, -1.44909803, -1.20096714, -0.27036057,  0.11573142],\n",
              "       [-0.84732566,  0.96826613,  0.17209909, -0.3316624 , -1.39379694],\n",
              "       [ 0.51777703,  0.15296821,  0.54270476, -1.7928608 ,  1.58786102],\n",
              "       [-1.38050966, -0.71452328,  0.89179101, -1.18500609, -0.20452775],\n",
              "       [ 1.39123854,  1.6777376 , -2.59349565,  1.15527179, -1.63051397],\n",
              "       [ 1.0087756 , -0.99798682, -1.46156191,  0.01426458, -0.06921873],\n",
              "       [ 0.96889318, -0.5036713 ,  0.42072586,  0.98047034, -0.85060904],\n",
              "       [-1.50411769, -0.03906123, -0.60583063,  0.2277675 ,  1.08650152],\n",
              "       [-0.85111951,  0.68593744,  0.18193034,  0.47394637, -0.25151962],\n",
              "       [-0.48859069, -0.49324472,  0.54540081, -0.36852589,  0.72655248],\n",
              "       [-0.21729585, -1.07508211,  0.43757605, -0.82963521, -1.18494598],\n",
              "       [ 0.09459759,  0.61051406,  1.84667273, -1.04686741,  0.49674073],\n",
              "       [-1.03896638,  0.48012802,  0.66230356,  0.25966933,  0.29339357],\n",
              "       [-0.40055873, -1.26678885,  0.26786172,  0.36345885,  0.89195473],\n",
              "       [ 0.61728236, -0.19329511,  0.0821721 , -0.67919261, -0.86810874]])"
            ]
          },
          "execution_count": 166,
          "metadata": {},
          "output_type": "execute_result"
        }
      ],
      "source": [
        "x[:20,:]"
      ]
    },
    {
      "cell_type": "code",
      "execution_count": null,
      "metadata": {
        "id": "t_Bp5IWAEFjC"
      },
      "outputs": [],
      "source": [
        "dataset = OurDataset(x,y)\n",
        "dataloader = DataLoader(dataset =dataset, batch_size = 5, shuffle=True)\n",
        "\n",
        "dataiterator = iter(dataloader)\n",
        "\n",
        "for i, (inputs, labels) in enumerate(dataloader):\n",
        "  print(inputs)\n",
        "  print(labels)\n",
        "  break"
      ]
    },
    {
      "cell_type": "code",
      "execution_count": null,
      "metadata": {
        "id": "d_Zl6H8EA6Va"
      },
      "outputs": [],
      "source": [
        "next(dataiterator)"
      ]
    },
    {
      "cell_type": "markdown",
      "metadata": {
        "id": "vRZSWstnBaWT"
      },
      "source": [
        "#DATA AUGMENTATION AND TRANSFORMATION in PyTorch ▶"
      ]
    },
    {
      "cell_type": "code",
      "execution_count": null,
      "metadata": {
        "id": "_3qeobLHBf0C"
      },
      "outputs": [],
      "source": [
        "import numpy as np\n",
        "from torch.utils.data import Dataset, DataLoader\n",
        "import torch\n",
        "import torchvision"
      ]
    },
    {
      "cell_type": "code",
      "execution_count": null,
      "metadata": {
        "colab": {
          "background_save": true
        },
        "id": "Mc3tNa3jEcpF"
      },
      "outputs": [],
      "source": [
        "class OurDataset(Dataset):\n",
        "\n",
        "  def __init__(self,X,y,transforms = None):\n",
        "    self.X =torch.from_numpy(X)\n",
        "    self.y =torch.from_numpy(y)\n",
        "    self.transforms = transforms\n",
        "\n",
        "  def __getitem__(self,index):\n",
        "    #dataset[0]\n",
        "    if self.transforms:\n",
        "      self.X,self.y = self.transforms(self.X,self.y)\n",
        "    return self.X[index], self.y[index]\n",
        "\n",
        "  def __len__(self):\n",
        "    return len(self.X)\n",
        "\n",
        "  class ToTensors:\n",
        "    def __call__(self,X,y):\n",
        "      return torch.from_numpy(X),torch.from_numpy(y)\n",
        "\n"
      ]
    },
    {
      "cell_type": "code",
      "execution_count": null,
      "metadata": {
        "colab": {
          "background_save": true
        },
        "id": "4ey4j62-IB9U"
      },
      "outputs": [],
      "source": [
        "X = np.random.randn(150,5)\n",
        "y = np.random.randn(150,1)"
      ]
    },
    {
      "cell_type": "code",
      "execution_count": null,
      "metadata": {
        "id": "vYCLcrprILcC"
      },
      "outputs": [],
      "source": [
        "dataset = OurDataset(X,y, transforms = ToTensors())\n",
        "first_data =dataset[0]\n",
        "inputs, label =first_data\n",
        "inputs"
      ]
    },
    {
      "cell_type": "code",
      "execution_count": null,
      "metadata": {
        "id": "zDomJwb8IX1h"
      },
      "outputs": [],
      "source": []
    }
  ],
  "metadata": {
    "colab": {
      "provenance": [],
      "authorship_tag": "ABX9TyOCRgTd5W3sa0RHY8PBoODY",
      "include_colab_link": true
    },
    "kernelspec": {
      "display_name": "Python 3",
      "name": "python3"
    },
    "language_info": {
      "name": "python"
    }
  },
  "nbformat": 4,
  "nbformat_minor": 0
}